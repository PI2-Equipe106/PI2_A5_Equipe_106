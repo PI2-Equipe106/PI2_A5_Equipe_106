{
  "cells": [
    {
      "cell_type": "markdown",
      "metadata": {
        "id": "bFYMZk8DFWwI"
      },
      "source": [
        "# 0) Import des Librairies\n",
        "\n",
        "---\n",
        "\n"
      ]
    },
    {
      "cell_type": "code",
      "execution_count": 1,
      "metadata": {
        "id": "e37IQ5INFhRt"
      },
      "outputs": [],
      "source": [
        "import pandas as pd\n",
        "import matplotlib.pyplot as plt\n",
        "import plotly.express as px\n",
        "import missingno as msno\n",
        "import seaborn as sns\n",
        "import plotly.figure_factory as ff\n",
        "\n",
        "import numpy as np"
      ]
    },
    {
      "cell_type": "code",
      "execution_count": 2,
      "metadata": {
        "colab": {
          "base_uri": "https://localhost:8080/"
        },
        "id": "DqWnROEWRU3y",
        "outputId": "bd5f5d60-ca40-48ac-8103-1337902b11ea"
      },
      "outputs": [
        {
          "name": "stderr",
          "output_type": "stream",
          "text": [
            "C:\\Users\\edmee\\AppData\\Local\\Temp\\ipykernel_12840\\4139613647.py:5: FutureWarning: The pandas.datetime class is deprecated and will be removed from pandas in a future version. Import from datetime module instead.\n",
            "  from pandas import datetime\n"
          ]
        }
      ],
      "source": [
        "import itertools\n",
        "import warnings\n",
        "from statsmodels.tsa.arima.model import ARIMA\n",
        "from statsmodels.tsa.seasonal import seasonal_decompose\n",
        "from pandas import datetime\n",
        "from statsmodels.tsa.stattools import adfuller\n",
        "from statsmodels.tsa.stattools import acf, pacf"
      ]
    },
    {
      "cell_type": "code",
      "execution_count": 3,
      "metadata": {
        "id": "DJPfCJJDvvjG"
      },
      "outputs": [],
      "source": [
        "from sklearn.model_selection import train_test_split\n",
        "from sklearn.linear_model import LogisticRegression\n",
        "from sklearn.metrics import accuracy_score, confusion_matrix"
      ]
    },
    {
      "cell_type": "code",
      "execution_count": null,
      "metadata": {},
      "outputs": [],
      "source": []
    },
    {
      "cell_type": "code",
      "execution_count": 4,
      "metadata": {
        "id": "XwjUmvKLHTwY"
      },
      "outputs": [],
      "source": [
        "pd.set_option('display.max_rows', 500)\n",
        "pd.set_option('display.max_columns',30)\n"
      ]
    },
    {
      "cell_type": "markdown",
      "metadata": {
        "id": "_SdY_SnXFbUG"
      },
      "source": [
        "# 1) Import des données"
      ]
    },
    {
      "cell_type": "code",
      "execution_count": 7,
      "metadata": {
        "id": "ipy8HngCFs03"
      },
      "outputs": [],
      "source": [
        "stations = pd.read_csv('./Data/donnees_stations_hydrometrie.csv')\n",
        "sites = pd.read_csv('./Data/donnees_sites_hydrometrie.csv')\n",
        "donne_hydro1 = pd.read_csv('./Data/donnees_hydrometrie.csv',  low_memory=False)\n",
        "donne_hydro2=pd.read_csv('./Data/donnees_hydrometrie_2.csv',  low_memory=False)\n",
        "\n",
        "# donne_meteo = pd.read_csv('/content/donnees_meteo_2020-2023.csv')"
      ]
    },
    {
      "cell_type": "code",
      "execution_count": 43,
      "metadata": {},
      "outputs": [],
      "source": [
        "data=donne_hydro1[:]"
      ]
    },
    {
      "cell_type": "code",
      "execution_count": 9,
      "metadata": {
        "colab": {
          "base_uri": "https://localhost:8080/"
        },
        "id": "0Wzd8WQwpJ3O",
        "outputId": "abaf02d7-92ab-4d63-bd0b-432cb86b7835"
      },
      "outputs": [
        {
          "name": "stdout",
          "output_type": "stream",
          "text": [
            "3256000\n"
          ]
        },
        {
          "data": {
            "text/plain": [
              "3256000"
            ]
          },
          "execution_count": 9,
          "metadata": {},
          "output_type": "execute_result"
        }
      ],
      "source": [
        "print(len(data[[\"date_obs_elab\", \"code_station\"]].drop_duplicates()))\n",
        "len(data[[\"code_site\",\"code_station\"]])"
      ]
    },
    {
      "cell_type": "markdown",
      "metadata": {
        "id": "hIwSR7LcHIbG"
      },
      "source": [
        "# 2) Traitement des données"
      ]
    },
    {
      "cell_type": "markdown",
      "metadata": {
        "id": "hM90_GPYIMTc"
      },
      "source": [
        "#### 2.1) Variables intéressantes"
      ]
    },
    {
      "cell_type": "code",
      "execution_count": 10,
      "metadata": {
        "colab": {
          "base_uri": "https://localhost:8080/"
        },
        "id": "NrW0GHXKpV8h",
        "outputId": "5c5f9eba-3345-4cde-8878-17e5c173299b"
      },
      "outputs": [
        {
          "data": {
            "text/plain": [
              "array(['Bonne', 'Douteuse', 'Non qualifiée'], dtype=object)"
            ]
          },
          "execution_count": 10,
          "metadata": {},
          "output_type": "execute_result"
        }
      ],
      "source": [
        "data[\"libelle_qualification\"].unique()"
      ]
    },
    {
      "cell_type": "markdown",
      "metadata": {
        "id": "WeSEOnyYt6_o"
      },
      "source": [
        "Variables qui me semblent interressantes"
      ]
    },
    {
      "cell_type": "code",
      "execution_count": 11,
      "metadata": {
        "colab": {
          "base_uri": "https://localhost:8080/"
        },
        "id": "uGFmjjbCBfyk",
        "outputId": "7bcf5609-9355-445f-e52d-eed846843a1a"
      },
      "outputs": [
        {
          "data": {
            "text/plain": [
              "Index(['code_site', 'code_station', 'date_obs_elab', 'resultat_obs_elab',\n",
              "       'date_prod', 'code_statut', 'libelle_statut', 'code_methode',\n",
              "       'libelle_methode', 'code_qualification', 'libelle_qualification',\n",
              "       'longitude', 'latitude', 'grandeur_hydro_elab'],\n",
              "      dtype='object')"
            ]
          },
          "execution_count": 11,
          "metadata": {},
          "output_type": "execute_result"
        }
      ],
      "source": [
        "data.columns"
      ]
    },
    {
      "cell_type": "code",
      "execution_count": 39,
      "metadata": {},
      "outputs": [
        {
          "data": {
            "text/plain": [
              "Index(['code_site', 'libelle_site', 'code_station', 'libelle_station',\n",
              "       'type_station', 'coordonnee_x_station', 'coordonnee_y_station',\n",
              "       'code_projection', 'longitude_station', 'latitude_station',\n",
              "       'influence_locale_station', 'commentaire_station',\n",
              "       'altitude_ref_alti_station', 'code_systeme_alti_site',\n",
              "       'code_commune_station', 'libelle_commune', 'code_departement',\n",
              "       'code_region', 'libelle_region', 'code_cours_eau', 'libelle_cours_eau',\n",
              "       'uri_cours_eau', 'descriptif_station', 'date_maj_station',\n",
              "       'date_ouverture_station', 'date_fermeture_station',\n",
              "       'commentaire_influence_locale_station', 'code_regime_station',\n",
              "       'qualification_donnees_station', 'code_finalite_station',\n",
              "       'type_contexte_loi_stat_station', 'type_loi_station',\n",
              "       'code_sandre_reseau_station', 'date_debut_ref_alti_station',\n",
              "       'date_activation_ref_alti_station', 'date_maj_ref_alti_station',\n",
              "       'libelle_departement', 'en_service', 'geometry'],\n",
              "      dtype='object')"
            ]
          },
          "execution_count": 39,
          "metadata": {},
          "output_type": "execute_result"
        }
      ],
      "source": [
        "stations.columns"
      ]
    },
    {
      "cell_type": "code",
      "execution_count": 41,
      "metadata": {},
      "outputs": [
        {
          "data": {
            "text/plain": [
              "Index(['code_site', 'libelle_site', 'type_site', 'coordonnee_x_site',\n",
              "       'coordonnee_y_site', 'code_projection', 'longitude_site',\n",
              "       'latitude_site', 'altitude_site', 'code_systeme_alti_site',\n",
              "       'surface_bv', 'statut_site', 'premier_mois_etiage_site',\n",
              "       'premier_mois_annee_hydro_site', 'influence_generale_site',\n",
              "       'code_entite_hydro_site', 'code_troncon_hydro_site',\n",
              "       'code_commune_site', 'code_zone_hydro_site', 'libelle_commune',\n",
              "       'code_departement', 'code_region', 'libelle_region', 'code_cours_eau',\n",
              "       'libelle_cours_eau', 'uri_cours_eau', 'grandeur_hydro', 'date_maj_site',\n",
              "       'date_premiere_donnee_dispo_site',\n",
              "       'commentaire_influence_generale_site', 'commentaire_site',\n",
              "       'type_contexte_loi_stat_site', 'type_loi_site', 'libelle_departement',\n",
              "       'geometry'],\n",
              "      dtype='object')"
            ]
          },
          "execution_count": 41,
          "metadata": {},
          "output_type": "execute_result"
        }
      ],
      "source": [
        "sites.columns"
      ]
    },
    {
      "cell_type": "code",
      "execution_count": 44,
      "metadata": {
        "id": "_Wwj3KxFpaPG"
      },
      "outputs": [],
      "source": [
        "df= data[['code_site', 'code_station', 'date_obs_elab', 'resultat_obs_elab', 'grandeur_hydro_elab']]\n",
        "#df=df.rename({\"resultat_obs_elab\": \"QmJ\"})\n",
        "\n",
        "stations2=stations[['longitude_station', 'latitude_station', 'altitude_ref_alti_station','libelle_site', 'libelle_station',\n",
        "                     'code_cours_eau','libelle_cours_eau', 'code_site', 'code_station',\"libelle_departement\"]]\n",
        "\n",
        "sites2=sites[[\"code_site\",'longitude_site', 'altitude_site']]"
      ]
    },
    {
      "cell_type": "code",
      "execution_count": 45,
      "metadata": {},
      "outputs": [],
      "source": [
        "df2=pd.merge(df, stations2, on= [\"code_site\", \"code_station\"], how=\"left\")\n",
        "df2=pd.merge(df2, sites2, on= [\"code_site\"], how=\"left\")"
      ]
    },
    {
      "cell_type": "code",
      "execution_count": 46,
      "metadata": {
        "colab": {
          "base_uri": "https://localhost:8080/",
          "height": 487
        },
        "id": "bxHemT3Al7FN",
        "outputId": "ec7e96eb-3549-4dd2-f932-c3cfdc599ab4"
      },
      "outputs": [
        {
          "data": {
            "text/html": [
              "<div>\n",
              "<style scoped>\n",
              "    .dataframe tbody tr th:only-of-type {\n",
              "        vertical-align: middle;\n",
              "    }\n",
              "\n",
              "    .dataframe tbody tr th {\n",
              "        vertical-align: top;\n",
              "    }\n",
              "\n",
              "    .dataframe thead th {\n",
              "        text-align: right;\n",
              "    }\n",
              "</style>\n",
              "<table border=\"1\" class=\"dataframe\">\n",
              "  <thead>\n",
              "    <tr style=\"text-align: right;\">\n",
              "      <th></th>\n",
              "      <th>code_site</th>\n",
              "      <th>code_station</th>\n",
              "      <th>date_obs_elab</th>\n",
              "      <th>resultat_obs_elab</th>\n",
              "      <th>grandeur_hydro_elab</th>\n",
              "      <th>longitude_station</th>\n",
              "      <th>latitude_station</th>\n",
              "      <th>altitude_ref_alti_station</th>\n",
              "      <th>libelle_site</th>\n",
              "      <th>libelle_station</th>\n",
              "      <th>code_cours_eau</th>\n",
              "      <th>libelle_cours_eau</th>\n",
              "      <th>libelle_departement</th>\n",
              "      <th>longitude_site</th>\n",
              "      <th>altitude_site</th>\n",
              "    </tr>\n",
              "  </thead>\n",
              "  <tbody>\n",
              "    <tr>\n",
              "      <th>0</th>\n",
              "      <td>10150001</td>\n",
              "      <td>1015000101</td>\n",
              "      <td>2005-02-22</td>\n",
              "      <td>2106.0</td>\n",
              "      <td>QmJ</td>\n",
              "      <td>-61.6932</td>\n",
              "      <td>16.175998</td>\n",
              "      <td>218.0</td>\n",
              "      <td>La rivière Bras David à Petit-Bourg [Maison Fo...</td>\n",
              "      <td>La rivière Bras David à Petit-Bourg [Maison Fo...</td>\n",
              "      <td>101-1020</td>\n",
              "      <td>Rivière Bras David</td>\n",
              "      <td>GUADELOUPE</td>\n",
              "      <td>-61.6932</td>\n",
              "      <td>214.38</td>\n",
              "    </tr>\n",
              "    <tr>\n",
              "      <th>1</th>\n",
              "      <td>10150001</td>\n",
              "      <td>1015000101</td>\n",
              "      <td>2005-02-23</td>\n",
              "      <td>973.0</td>\n",
              "      <td>QmJ</td>\n",
              "      <td>-61.6932</td>\n",
              "      <td>16.175998</td>\n",
              "      <td>218.0</td>\n",
              "      <td>La rivière Bras David à Petit-Bourg [Maison Fo...</td>\n",
              "      <td>La rivière Bras David à Petit-Bourg [Maison Fo...</td>\n",
              "      <td>101-1020</td>\n",
              "      <td>Rivière Bras David</td>\n",
              "      <td>GUADELOUPE</td>\n",
              "      <td>-61.6932</td>\n",
              "      <td>214.38</td>\n",
              "    </tr>\n",
              "    <tr>\n",
              "      <th>2</th>\n",
              "      <td>10150001</td>\n",
              "      <td>1015000101</td>\n",
              "      <td>2005-02-24</td>\n",
              "      <td>2758.0</td>\n",
              "      <td>QmJ</td>\n",
              "      <td>-61.6932</td>\n",
              "      <td>16.175998</td>\n",
              "      <td>218.0</td>\n",
              "      <td>La rivière Bras David à Petit-Bourg [Maison Fo...</td>\n",
              "      <td>La rivière Bras David à Petit-Bourg [Maison Fo...</td>\n",
              "      <td>101-1020</td>\n",
              "      <td>Rivière Bras David</td>\n",
              "      <td>GUADELOUPE</td>\n",
              "      <td>-61.6932</td>\n",
              "      <td>214.38</td>\n",
              "    </tr>\n",
              "    <tr>\n",
              "      <th>3</th>\n",
              "      <td>10150001</td>\n",
              "      <td>1015000101</td>\n",
              "      <td>2005-02-25</td>\n",
              "      <td>2818.0</td>\n",
              "      <td>QmJ</td>\n",
              "      <td>-61.6932</td>\n",
              "      <td>16.175998</td>\n",
              "      <td>218.0</td>\n",
              "      <td>La rivière Bras David à Petit-Bourg [Maison Fo...</td>\n",
              "      <td>La rivière Bras David à Petit-Bourg [Maison Fo...</td>\n",
              "      <td>101-1020</td>\n",
              "      <td>Rivière Bras David</td>\n",
              "      <td>GUADELOUPE</td>\n",
              "      <td>-61.6932</td>\n",
              "      <td>214.38</td>\n",
              "    </tr>\n",
              "    <tr>\n",
              "      <th>4</th>\n",
              "      <td>10150001</td>\n",
              "      <td>1015000101</td>\n",
              "      <td>2005-02-26</td>\n",
              "      <td>2521.0</td>\n",
              "      <td>QmJ</td>\n",
              "      <td>-61.6932</td>\n",
              "      <td>16.175998</td>\n",
              "      <td>218.0</td>\n",
              "      <td>La rivière Bras David à Petit-Bourg [Maison Fo...</td>\n",
              "      <td>La rivière Bras David à Petit-Bourg [Maison Fo...</td>\n",
              "      <td>101-1020</td>\n",
              "      <td>Rivière Bras David</td>\n",
              "      <td>GUADELOUPE</td>\n",
              "      <td>-61.6932</td>\n",
              "      <td>214.38</td>\n",
              "    </tr>\n",
              "  </tbody>\n",
              "</table>\n",
              "</div>"
            ],
            "text/plain": [
              "  code_site code_station date_obs_elab  resultat_obs_elab grandeur_hydro_elab  \\\n",
              "0  10150001   1015000101    2005-02-22             2106.0                 QmJ   \n",
              "1  10150001   1015000101    2005-02-23              973.0                 QmJ   \n",
              "2  10150001   1015000101    2005-02-24             2758.0                 QmJ   \n",
              "3  10150001   1015000101    2005-02-25             2818.0                 QmJ   \n",
              "4  10150001   1015000101    2005-02-26             2521.0                 QmJ   \n",
              "\n",
              "   longitude_station  latitude_station  altitude_ref_alti_station  \\\n",
              "0           -61.6932         16.175998                      218.0   \n",
              "1           -61.6932         16.175998                      218.0   \n",
              "2           -61.6932         16.175998                      218.0   \n",
              "3           -61.6932         16.175998                      218.0   \n",
              "4           -61.6932         16.175998                      218.0   \n",
              "\n",
              "                                        libelle_site  \\\n",
              "0  La rivière Bras David à Petit-Bourg [Maison Fo...   \n",
              "1  La rivière Bras David à Petit-Bourg [Maison Fo...   \n",
              "2  La rivière Bras David à Petit-Bourg [Maison Fo...   \n",
              "3  La rivière Bras David à Petit-Bourg [Maison Fo...   \n",
              "4  La rivière Bras David à Petit-Bourg [Maison Fo...   \n",
              "\n",
              "                                     libelle_station code_cours_eau  \\\n",
              "0  La rivière Bras David à Petit-Bourg [Maison Fo...       101-1020   \n",
              "1  La rivière Bras David à Petit-Bourg [Maison Fo...       101-1020   \n",
              "2  La rivière Bras David à Petit-Bourg [Maison Fo...       101-1020   \n",
              "3  La rivière Bras David à Petit-Bourg [Maison Fo...       101-1020   \n",
              "4  La rivière Bras David à Petit-Bourg [Maison Fo...       101-1020   \n",
              "\n",
              "    libelle_cours_eau libelle_departement  longitude_site  altitude_site  \n",
              "0  Rivière Bras David          GUADELOUPE        -61.6932         214.38  \n",
              "1  Rivière Bras David          GUADELOUPE        -61.6932         214.38  \n",
              "2  Rivière Bras David          GUADELOUPE        -61.6932         214.38  \n",
              "3  Rivière Bras David          GUADELOUPE        -61.6932         214.38  \n",
              "4  Rivière Bras David          GUADELOUPE        -61.6932         214.38  "
            ]
          },
          "execution_count": 46,
          "metadata": {},
          "output_type": "execute_result"
        }
      ],
      "source": [
        "df2.head()"
      ]
    },
    {
      "cell_type": "code",
      "execution_count": 47,
      "metadata": {
        "id": "oCIWoUTupeJR"
      },
      "outputs": [],
      "source": [
        "df2.to_csv('base.csv', index=False)"
      ]
    },
    {
      "cell_type": "markdown",
      "metadata": {
        "id": "VqghuHqEJO6c"
      },
      "source": [
        "# 3) Analyse"
      ]
    },
    {
      "cell_type": "code",
      "execution_count": 48,
      "metadata": {},
      "outputs": [
        {
          "data": {
            "text/plain": [
              "3256000"
            ]
          },
          "execution_count": 48,
          "metadata": {},
          "output_type": "execute_result"
        }
      ],
      "source": [
        "base=df2[:]\n",
        "len(base)"
      ]
    },
    {
      "cell_type": "code",
      "execution_count": 18,
      "metadata": {
        "colab": {
          "base_uri": "https://localhost:8080/",
          "height": 153
        },
        "id": "JaZjW4dlH7A-",
        "outputId": "70927c7e-75aa-4da8-f188-a40b4966d0db"
      },
      "outputs": [
        {
          "data": {
            "text/html": [
              "<div>\n",
              "<style scoped>\n",
              "    .dataframe tbody tr th:only-of-type {\n",
              "        vertical-align: middle;\n",
              "    }\n",
              "\n",
              "    .dataframe tbody tr th {\n",
              "        vertical-align: top;\n",
              "    }\n",
              "\n",
              "    .dataframe thead th {\n",
              "        text-align: right;\n",
              "    }\n",
              "</style>\n",
              "<table border=\"1\" class=\"dataframe\">\n",
              "  <thead>\n",
              "    <tr style=\"text-align: right;\">\n",
              "      <th></th>\n",
              "      <th>code_site</th>\n",
              "      <th>code_station</th>\n",
              "      <th>date_obs_elab</th>\n",
              "      <th>resultat_obs_elab</th>\n",
              "      <th>grandeur_hydro_elab</th>\n",
              "      <th>longitude_station</th>\n",
              "      <th>latitude_station</th>\n",
              "      <th>altitude_ref_alti_station</th>\n",
              "      <th>libelle_site</th>\n",
              "      <th>libelle_station</th>\n",
              "      <th>code_cours_eau</th>\n",
              "      <th>libelle_cours_eau</th>\n",
              "      <th>libelle_departement</th>\n",
              "      <th>longitude_site</th>\n",
              "      <th>altitude_site</th>\n",
              "    </tr>\n",
              "  </thead>\n",
              "  <tbody>\n",
              "    <tr>\n",
              "      <th>0</th>\n",
              "      <td>10150001</td>\n",
              "      <td>1015000101</td>\n",
              "      <td>2005-02-22</td>\n",
              "      <td>2106.0</td>\n",
              "      <td>QmJ</td>\n",
              "      <td>-61.6932</td>\n",
              "      <td>16.175998</td>\n",
              "      <td>218.0</td>\n",
              "      <td>La rivière Bras David à Petit-Bourg [Maison Fo...</td>\n",
              "      <td>La rivière Bras David à Petit-Bourg [Maison Fo...</td>\n",
              "      <td>101-1020</td>\n",
              "      <td>Rivière Bras David</td>\n",
              "      <td>GUADELOUPE</td>\n",
              "      <td>-61.6932</td>\n",
              "      <td>214.38</td>\n",
              "    </tr>\n",
              "  </tbody>\n",
              "</table>\n",
              "</div>"
            ],
            "text/plain": [
              "  code_site code_station date_obs_elab  resultat_obs_elab grandeur_hydro_elab  \\\n",
              "0  10150001   1015000101    2005-02-22             2106.0                 QmJ   \n",
              "\n",
              "   longitude_station  latitude_station  altitude_ref_alti_station  \\\n",
              "0           -61.6932         16.175998                      218.0   \n",
              "\n",
              "                                        libelle_site  \\\n",
              "0  La rivière Bras David à Petit-Bourg [Maison Fo...   \n",
              "\n",
              "                                     libelle_station code_cours_eau  \\\n",
              "0  La rivière Bras David à Petit-Bourg [Maison Fo...       101-1020   \n",
              "\n",
              "    libelle_cours_eau libelle_departement  longitude_site  altitude_site  \n",
              "0  Rivière Bras David          GUADELOUPE        -61.6932         214.38  "
            ]
          },
          "execution_count": 18,
          "metadata": {},
          "output_type": "execute_result"
        }
      ],
      "source": [
        "base.head(1)"
      ]
    },
    {
      "cell_type": "markdown",
      "metadata": {
        "id": "i5jb6f6NKZTv"
      },
      "source": [
        "## 3.1) Analyse des données de la base"
      ]
    },
    {
      "cell_type": "markdown",
      "metadata": {
        "id": "jwVwy3ynKvhd"
      },
      "source": [
        "### 3.1.1) Matrice des données manquantes"
      ]
    },
    {
      "cell_type": "code",
      "execution_count": 19,
      "metadata": {
        "colab": {
          "base_uri": "https://localhost:8080/",
          "height": 765
        },
        "id": "76_jg_6JH7Dv",
        "outputId": "b80f0400-8d49-49fc-fff0-7bd68a83d659"
      },
      "outputs": [
        {
          "data": {
            "text/plain": [
              "<AxesSubplot:>"
            ]
          },
          "execution_count": 19,
          "metadata": {},
          "output_type": "execute_result"
        },
        {
          "data": {
            "image/png": "[encoded data removed]",
            "text/plain": [
              "<Figure size 2500x1000 with 2 Axes>"
            ]
          },
          "metadata": {},
          "output_type": "display_data"
        }
      ],
      "source": [
        "msno.matrix(base)"
      ]
    },
    {
      "cell_type": "markdown",
      "metadata": {
        "id": "r4E1JfRXK10U"
      },
      "source": [
        "### 3.1.2) Description de la base"
      ]
    },
    {
      "cell_type": "code",
      "execution_count": 52,
      "metadata": {
        "colab": {
          "base_uri": "https://localhost:8080/"
        },
        "id": "TsGK6eeXK1HU",
        "outputId": "58295ade-f804-4af7-ca72-f3591c2ce32f"
      },
      "outputs": [
        {
          "name": "stdout",
          "output_type": "stream",
          "text": [
            "                               count           mean            std  \\\n",
            "resultat_obs_elab          3256000.0   32687.970382  190357.363176   \n",
            "longitude_station          3256000.0       1.506544      16.238911   \n",
            "latitude_station           3256000.0      45.694519      11.880493   \n",
            "altitude_ref_alti_station  2825382.0  147229.050166  111580.695629   \n",
            "longitude_site             3254983.0       1.566145      16.335284   \n",
            "altitude_site              2921167.0     205.210045    2273.034234   \n",
            "\n",
            "                                    min           25%            50%  \\\n",
            "resultat_obs_elab         -2.885035e+06    474.000000    1599.000000   \n",
            "longitude_station         -6.172518e+01      2.527185       4.292762   \n",
            "latitude_station          -2.137662e+01     48.067078      48.648237   \n",
            "altitude_ref_alti_station  0.000000e+00  49184.000000  143850.000000   \n",
            "longitude_site            -6.172518e+01      2.526435       4.323845   \n",
            "altitude_site              0.000000e+00     65.000000     150.000000   \n",
            "\n",
            "                                     75%           max  \n",
            "resultat_obs_elab            6723.000000  8.851866e+06  \n",
            "longitude_station               6.272360  5.567971e+01  \n",
            "latitude_station               49.343331  5.089905e+01  \n",
            "altitude_ref_alti_station  217470.000000  5.971350e+05  \n",
            "longitude_site                  6.341560  5.567971e+01  \n",
            "altitude_site                 219.000000  1.300000e+05  \n",
            "3256000\n"
          ]
        }
      ],
      "source": [
        "print(base.describe().T)\n",
        "print(len(base))"
      ]
    },
    {
      "cell_type": "markdown",
      "metadata": {
        "id": "1wN0eiSRLWZw"
      },
      "source": [
        "# On test pour une station en particulier (station 1)"
      ]
    },
    {
      "cell_type": "code",
      "execution_count": 53,
      "metadata": {
        "colab": {
          "base_uri": "https://localhost:8080/"
        },
        "id": "eibmM4R9i5Vv",
        "outputId": "8703eaf7-0f1f-4caa-fe10-63abc47dc982"
      },
      "outputs": [
        {
          "data": {
            "text/plain": [
              "array(['GUADELOUPE', 'MARTINIQUE', 'MAYOTTE', 'LA REUNION', 'GUYANE', nan,\n",
              "       'HAUT-RHIN', 'BAS-RHIN', 'VOSGES', 'MEURTHE-ET-MOSELLE', 'MOSELLE',\n",
              "       'MEUSE', 'HAUTE-MARNE', 'ARDENNES', 'NORD', 'PAS-DE-CALAIS',\n",
              "       'SOMME', \"COTE-D'OR\", 'AUBE', 'SEINE-ET-MARNE', 'YONNE', 'LOIRET',\n",
              "       'ESSONNE', 'YVELINES', 'VAL-DE-MARNE', 'MARNE', 'AISNE',\n",
              "       'SEINE-SAINT-DENIS', 'PARIS', 'SEINE-MARITIME', 'NIEVRE', 'OISE',\n",
              "       \"VAL-D'OISE\", 'EURE', 'EURE-ET-LOIR'], dtype=object)"
            ]
          },
          "execution_count": 53,
          "metadata": {},
          "output_type": "execute_result"
        }
      ],
      "source": [
        "base[\"libelle_departement\"].unique()"
      ]
    },
    {
      "cell_type": "code",
      "execution_count": 54,
      "metadata": {
        "colab": {
          "base_uri": "https://localhost:8080/"
        },
        "id": "Hj_ziyUcIqtJ",
        "outputId": "9a6acc55-3436-4e64-86da-31e0eaeb504a"
      },
      "outputs": [
        {
          "data": {
            "text/plain": [
              "libelle_departement  code_station\n",
              "PARIS                F700000102       181\n",
              "                     F700000103      6470\n",
              "SEINE-SAINT-DENIS    F664000104      6862\n",
              "                     F664000106        87\n",
              "VAL-D'OISE           H224000501      6862\n",
              "                     H226000201      6862\n",
              "                     H317061010      6750\n",
              "VAL-DE-MARNE         F490000103        80\n",
              "                     F490000104      6862\n",
              "                     F664000404      1046\n",
              "Name: grandeur_hydro_elab, dtype: int64"
            ]
          },
          "execution_count": 54,
          "metadata": {},
          "output_type": "execute_result"
        }
      ],
      "source": [
        "base[base[\"libelle_departement\"].isin([\"VAL-D'OISE\", 'SEINE-SAINT-DENIS', 'VAL-DE-MARNE', \"PARIS\"])].groupby([\"libelle_departement\", \"code_station\"])[\"grandeur_hydro_elab\"].count()"
      ]
    },
    {
      "cell_type": "code",
      "execution_count": 55,
      "metadata": {
        "id": "75G89GHAjJgx"
      },
      "outputs": [],
      "source": [
        "df=base[base[\"code_station\"]==\"F700000103\"]"
      ]
    },
    {
      "cell_type": "code",
      "execution_count": 56,
      "metadata": {
        "id": "55dqEsXijNx5"
      },
      "outputs": [],
      "source": [
        "df.to_csv('./Data/station_paris.csv', index=False)"
      ]
    },
    {
      "cell_type": "code",
      "execution_count": null,
      "metadata": {},
      "outputs": [],
      "source": []
    }
  ],
  "metadata": {
    "colab": {
      "provenance": [],
      "toc_visible": true
    },
    "kernelspec": {
      "display_name": "Python 3 (ipykernel)",
      "language": "python",
      "name": "python3"
    },
    "language_info": {
      "codemirror_mode": {
        "name": "ipython",
        "version": 3
      },
      "file_extension": ".py",
      "mimetype": "text/x-python",
      "name": "python",
      "nbconvert_exporter": "python",
      "pygments_lexer": "ipython3",
      "version": "3.9.7"
    }
  },
  "nbformat": 4,
  "nbformat_minor": 0
}
